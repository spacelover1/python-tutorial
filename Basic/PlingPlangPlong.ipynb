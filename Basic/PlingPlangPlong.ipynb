{
 "cells": [
  {
   "cell_type": "markdown",
   "metadata": {},
   "source": [
    "**Converting a number into a string that contains raindrop sounds :)**\n",
    "\n",
    "If the number has a factor 3, print \"Pling\", if it has 5 as a factor print \"Plang\" and for factor 7 print \"Plong\". And if it has none of these factors print the number as a string.\n",
    "\n",
    "**Example:**\n",
    "9 >> Pling\n",
    "15 >> PlingPlang\n",
    "105 >> PlingPlangPlong\n",
    "11 >> '11'"
   ]
  },
  {
   "cell_type": "markdown",
   "metadata": {},
   "source": [
    "## Using if-else"
   ]
  },
  {
   "cell_type": "code",
   "execution_count": 1,
   "metadata": {},
   "outputs": [],
   "source": [
    "def raindrop(number):\n",
    "    if number % 3 == 0 and number % 5 == 0 and number % 7 == 0:\n",
    "        return \"PlingPlangPlong\"\n",
    "\n",
    "    elif number % 3 == 0 and number % 5 == 0:\n",
    "        return \"PlingPlang\"\n",
    "    elif number % 3 == 0 and number % 7 == 0:\n",
    "        return \"PlingPlong\"\n",
    "    elif number % 5 == 0 and number % 7 == 0:\n",
    "        return \"PlangPlong\"\n",
    "\n",
    "    elif number % 3 == 0 or number % 5 == 0 or number % 7 == 0:\n",
    "        if number % 3 == 0:\n",
    "            return \"Pling\"\n",
    "        elif number % 5 == 0:\n",
    "            return \"Plang\"\n",
    "        else:\n",
    "            return \"Plong\"\n",
    "\n",
    "    else:\n",
    "        return str(number)"
   ]
  },
  {
   "cell_type": "code",
   "execution_count": 2,
   "metadata": {},
   "outputs": [
    {
     "name": "stdout",
     "output_type": "stream",
     "text": [
      "Please Enter Your Number: 105\n",
      "PlingPlangPlong\n"
     ]
    }
   ],
   "source": [
    "num = int(input(\"Please Enter Your Number: \"))\n",
    "print(raindrop(num))"
   ]
  },
  {
   "cell_type": "markdown",
   "metadata": {},
   "source": [
    "## Using String Concatenation"
   ]
  },
  {
   "cell_type": "code",
   "execution_count": 3,
   "metadata": {},
   "outputs": [],
   "source": [
    "def raindrop(number):\n",
    "\n",
    "    raindrop_str = \"\"\n",
    "    if number % 3 == 0:\n",
    "        raindrop_str = raindrop_str + \"Pling\"\n",
    "    if number % 5 == 0:\n",
    "        raindrop_str = raindrop_str + \"Plang\"\n",
    "    if number % 7 == 0:\n",
    "        raindrop_str = raindrop_str + \"Plong\"\n",
    "    if number % 3 != 0 and number % 5 != 0 and number % 7 != 0:\n",
    "        raindrop_str += str(number)\n",
    "    return raindrop_str"
   ]
  },
  {
   "cell_type": "code",
   "execution_count": 4,
   "metadata": {},
   "outputs": [
    {
     "name": "stdout",
     "output_type": "stream",
     "text": [
      "Please Enter Your Number: 34\n",
      "34\n"
     ]
    }
   ],
   "source": [
    "num = int(input(\"Please Enter Your Number: \"))\n",
    "print(raindrop(num))"
   ]
  },
  {
   "cell_type": "markdown",
   "metadata": {},
   "source": [
    "Note: Instead of the long expression in the last if statement you could simply check if the string is still empty or not."
   ]
  },
  {
   "cell_type": "markdown",
   "metadata": {},
   "source": [
    "There's also another more advanced way, that is shorter than the last two ways:\n",
    "\n",
    "## Using List Comprehension\n"
   ]
  },
  {
   "cell_type": "code",
   "execution_count": 5,
   "metadata": {},
   "outputs": [],
   "source": [
    "def raindrop(number):\n",
    "    drop_sound = ((3, \"Pling\"), (5, \"Plang\"), (7, \"Plong\"))\n",
    "    rain = \"\".join(y for x, y in drop_sound if number % x == 0)\n",
    "    if rain:\n",
    "        return rain\n",
    "    else:\n",
    "        return str(number)"
   ]
  },
  {
   "cell_type": "code",
   "execution_count": 6,
   "metadata": {},
   "outputs": [
    {
     "name": "stdout",
     "output_type": "stream",
     "text": [
      "Please Enter Your Number: 49\n",
      "Plong\n"
     ]
    }
   ],
   "source": [
    "num = int(input(\"Please Enter Your Number: \"))\n",
    "print(raindrop(num))"
   ]
  },
  {
   "cell_type": "code",
   "execution_count": null,
   "metadata": {},
   "outputs": [],
   "source": []
  }
 ],
 "metadata": {
  "kernelspec": {
   "display_name": "Python 3",
   "language": "python",
   "name": "python3"
  },
  "language_info": {
   "codemirror_mode": {
    "name": "ipython",
    "version": 3
   },
   "file_extension": ".py",
   "mimetype": "text/x-python",
   "name": "python",
   "nbconvert_exporter": "python",
   "pygments_lexer": "ipython3",
   "version": "3.7.3"
  }
 },
 "nbformat": 4,
 "nbformat_minor": 2
}
